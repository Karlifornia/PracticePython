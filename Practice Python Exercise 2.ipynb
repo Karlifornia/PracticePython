{
 "cells": [
  {
   "cell_type": "markdown",
   "metadata": {},
   "source": [
    "# Odd Or Even \n",
    "## input if types int equality comparison numbers mod\n",
    "### Exercise 2 (and Solution)\n",
    "\n",
    "The exercise comes first (with a few extras if you want the extra challenge or want to spend more time), followed by a discussion. Enjoy!\n",
    "\n",
    "Ask the user for a number. Depending on whether the number is even or odd, print out an appropriate message to the user. Hint: how does an even / odd number react differently when divided by 2?\n",
    "\n",
    "Extras:\n",
    "\n",
    "If the number is a multiple of 4, print out a different message.\n",
    "Ask the user for two numbers: one number to check (call it num) and one number to divide by (check). If check divides evenly into num, tell that to the user. If not, print a different appropriate message."
   ]
  },
  {
   "cell_type": "code",
   "execution_count": 6,
   "metadata": {},
   "outputs": [
    {
     "name": "stdout",
     "output_type": "stream",
     "text": [
      "Tell me any integer number: \n",
      "test\n",
      "Please enter a number\n",
      "Tell me any integer number: \n",
      "25\n",
      "the integer number you provided is odd\n",
      "\n",
      "\n",
      "EXTRA EXTRA\n",
      "\n",
      "\n",
      "\n",
      "Tell me a number: \n",
      "25\n",
      "Please enter a number to divide by: \n",
      "5\n",
      "25 divides evenly into 5\n"
     ]
    }
   ],
   "source": [
    "while True:\n",
    "    try:\n",
    "        userNumber = int(input(\"Tell me any integer number: \" + \"\\n\"))\n",
    "    except:\n",
    "        print(\"Please enter a number\")\n",
    "        continue\n",
    "    if userNumber < 1:\n",
    "        print(\"Please enter a positive number\")\n",
    "        continue\n",
    "    break\n",
    "\n",
    "if userNumber % 2 == 0:\n",
    "    if userNumber % 4 == 0:\n",
    "        print(\"the integer number you provided is a multiple of 4\")\n",
    "    else:\n",
    "        print(\"the integer number you provided is even\")\n",
    "else:\n",
    "    print(\"the integer number you provided is odd\")\n",
    "\n",
    "print(\"\\n\\n\"+ \"EXTRA EXTRA\" + \"\\n\\n\\n\")\n",
    "\n",
    "while True:\n",
    "    try:\n",
    "        num = int(input(\"Tell me a number: \" + \"\\n\"))\n",
    "    except:\n",
    "        print(\"Please enter a number\")\n",
    "        continue\n",
    "    if num < 1:\n",
    "        print(\"Please enter a positive number\")\n",
    "        continue\n",
    "    break\n",
    "\n",
    "while True:\n",
    "    try:\n",
    "        check = int(input(\"Please enter a number to divide by: \" + \"\\n\"))\n",
    "    except:\n",
    "        print(\"Please enter a number\")\n",
    "        continue\n",
    "    if check < 1:\n",
    "        print(\"Please enter a positive number\")\n",
    "        continue\n",
    "    break\n",
    "\n",
    "if num % check == 0:\n",
    "    print(str(num) + \" divides evenly into \" + str(check))\n",
    "else:\n",
    "    print(str(num)+ \" does not divide evenly into \" + str(check))\n"
   ]
  },
  {
   "cell_type": "code",
   "execution_count": null,
   "metadata": {},
   "outputs": [],
   "source": []
  }
 ],
 "metadata": {
  "kernelspec": {
   "display_name": "Python 3",
   "language": "python",
   "name": "python3"
  },
  "language_info": {
   "codemirror_mode": {
    "name": "ipython",
    "version": 3
   },
   "file_extension": ".py",
   "mimetype": "text/x-python",
   "name": "python",
   "nbconvert_exporter": "python",
   "pygments_lexer": "ipython3",
   "version": "3.8.3"
  }
 },
 "nbformat": 4,
 "nbformat_minor": 4
}
