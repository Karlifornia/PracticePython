{
 "cells": [
  {
   "cell_type": "markdown",
   "metadata": {},
   "source": [
    "### https://www.practicepython.org/exercise/2014/01/29/01-character-input.html\n",
    "\n",
    "Exercise 1 (and Solution)\n",
    "\n",
    "Create a program that asks the user to enter their name and their age. Print out a message addressed to them that tells them the year that they will turn 100 years old. Note: for this exercise, the expectation is that you explicitly write out the year (and therefore be out of date the next year). If you want to do this in a generic way, see exercise 39.\n",
    "\n",
    "Extras:\n",
    "\n",
    "Add on to the previous program by asking the user for another number and printing out that many copies of the previous message. (Hint: order of operations exists in Python)\n",
    "Print out that many copies of the previous message on separate lines. (Hint: the string \"\\n is the same as pressing the ENTER button)"
   ]
  },
  {
   "cell_type": "code",
   "execution_count": 7,
   "metadata": {},
   "outputs": [
    {
     "name": "stdout",
     "output_type": "stream",
     "text": [
      "What is your name?\n",
      "bob\n",
      "What is your age? \n",
      "2\n",
      "Bob, you will turn a 100 in the year 2120\n",
      "\n",
      "Extras:\n",
      "How many times do you want to repeat this message? \n",
      "3\n",
      "Bob, you will turn a 100 in the year 2120\n",
      "Bob, you will turn a 100 in the year 2120\n",
      "Bob, you will turn a 100 in the year 2120\n"
     ]
    }
   ],
   "source": [
    "from datetime import datetime\n",
    "\n",
    "name = input(\"What is your name?\" + \"\\n\")\n",
    "    \n",
    "while True:\n",
    "    try:\n",
    "        age = int(input(\"What is your age? \"+ \"\\n\"))\n",
    "\n",
    "    except:\n",
    "        print(\"Please enter a number\")\n",
    "        continue\n",
    "\n",
    "    if age < 1:\n",
    "        print(\"Please enter a positive number\")\n",
    "        continue\n",
    "\n",
    "    break\n",
    "    \n",
    "currentYear = int(datetime.now().year)\n",
    "print(name.capitalize()+\", you will turn a 100 in the year \" + str((100-age)+currentYear))\n",
    "\n",
    "print(\"\\n\" + \"Extras:\")\n",
    "\n",
    "while True:\n",
    "    try:\n",
    "        copyprint = int(input(\"How many times do you want to repeat this message? \"+ \"\\n\"))\n",
    "\n",
    "    except:\n",
    "        print(\"Please enter a number\")\n",
    "        continue\n",
    "\n",
    "    if age < 1:\n",
    "        print(\"Please enter a positive number\")\n",
    "        continue\n",
    "\n",
    "    break\n",
    "\n",
    "for i in range(copyprint):\n",
    "    print(name.capitalize()+\", you will turn a 100 in the year \" + str((100-age)+currentYear))    "
   ]
  },
  {
   "cell_type": "code",
   "execution_count": null,
   "metadata": {},
   "outputs": [],
   "source": []
  }
 ],
 "metadata": {
  "kernelspec": {
   "display_name": "Python 3",
   "language": "python",
   "name": "python3"
  },
  "language_info": {
   "codemirror_mode": {
    "name": "ipython",
    "version": 3
   },
   "file_extension": ".py",
   "mimetype": "text/x-python",
   "name": "python",
   "nbconvert_exporter": "python",
   "pygments_lexer": "ipython3",
   "version": "3.8.3"
  }
 },
 "nbformat": 4,
 "nbformat_minor": 4
}
